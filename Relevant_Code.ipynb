{
 "cells": [
  {
   "cell_type": "markdown",
   "id": "ebebfcf2-af26-4d9d-bbeb-6a5c09f32fb0",
   "metadata": {},
   "source": [
    "# Purpose \n",
    "\n",
    "Tracking all the relevant code/functions we use so that we can put together the README\n",
    " \n",
    "We will be using Influenza A H3N2 genome sequences from NCBI from 2015-2019, focusing on the PB2 domain.\n",
    "- 2015: (https://www.ncbi.nlm.nih.gov/nuccore/KT835774)\n",
    "- 2016: (https://www.ncbi.nlm.nih.gov/nuccore/KX412667)\n",
    "- 2017: (https://www.ncbi.nlm.nih.gov/nuccore/CY216622)\n",
    "- 2018: (https://www.ncbi.nlm.nih.gov/nuccore/MH081895)\n",
    "- 2019: (https://www.ncbi.nlm.nih.gov/nuccore/MK744669)\n",
    "\n",
    "\n",
    "## Submission checklist\n",
    "\n",
    "- Commit notebook on DataHub and push to GitHub\n",
    "     - git add {file name}\n",
    "     - git commit -m \"little note\"\n",
    "     - git push origin main"
   ]
  },
  {
   "cell_type": "code",
   "execution_count": null,
   "id": "edd29be8-065a-4734-a5f4-afa57046c6ba",
   "metadata": {},
   "outputs": [],
   "source": []
  }
 ],
 "metadata": {
  "kernelspec": {
   "display_name": "Python 3 (ipykernel)",
   "language": "python",
   "name": "python3"
  },
  "language_info": {
   "codemirror_mode": {
    "name": "ipython",
    "version": 3
   },
   "file_extension": ".py",
   "mimetype": "text/x-python",
   "name": "python",
   "nbconvert_exporter": "python",
   "pygments_lexer": "ipython3",
   "version": "3.11.10"
  }
 },
 "nbformat": 4,
 "nbformat_minor": 5
}
