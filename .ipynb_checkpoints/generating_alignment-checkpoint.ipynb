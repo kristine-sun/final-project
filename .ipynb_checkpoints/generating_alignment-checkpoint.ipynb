{
 "cells": [
  {
   "cell_type": "markdown",
   "id": "8dc76671-f584-4e0a-8dbe-37fc8ff98b23",
   "metadata": {},
   "source": [
    "# Generating the Alignment Files\n",
    "\n",
    "This notebook goes through the steps we used to generate the alignment data. It shouldn't need to be run again since we already have the files generated."
   ]
  },
  {
   "cell_type": "code",
   "execution_count": 1,
   "id": "f30ac550-a83e-4c17-943a-d9bdd8e2a980",
   "metadata": {},
   "outputs": [
    {
     "name": "stdout",
     "output_type": "stream",
     "text": [
      "Requirement already satisfied: biopython in /srv/conda/lib/python3.11/site-packages (1.84)\n",
      "Requirement already satisfied: numpy in /srv/conda/lib/python3.11/site-packages (from biopython) (1.23.5)\n",
      "Requirement already satisfied: pandas in /srv/conda/lib/python3.11/site-packages (1.5.3)\n",
      "Requirement already satisfied: python-dateutil>=2.8.1 in /srv/conda/lib/python3.11/site-packages (from pandas) (2.9.0)\n",
      "Requirement already satisfied: pytz>=2020.1 in /srv/conda/lib/python3.11/site-packages (from pandas) (2024.2)\n",
      "Requirement already satisfied: numpy>=1.21.0 in /srv/conda/lib/python3.11/site-packages (from pandas) (1.23.5)\n",
      "Requirement already satisfied: six>=1.5 in /srv/conda/lib/python3.11/site-packages (from python-dateutil>=2.8.1->pandas) (1.16.0)\n",
      "Requirement already satisfied: matplotlib in /srv/conda/lib/python3.11/site-packages (3.9.2)\n",
      "Requirement already satisfied: contourpy>=1.0.1 in /srv/conda/lib/python3.11/site-packages (from matplotlib) (1.3.1)\n",
      "Requirement already satisfied: cycler>=0.10 in /srv/conda/lib/python3.11/site-packages (from matplotlib) (0.12.1)\n",
      "Requirement already satisfied: fonttools>=4.22.0 in /srv/conda/lib/python3.11/site-packages (from matplotlib) (4.54.1)\n",
      "Requirement already satisfied: kiwisolver>=1.3.1 in /srv/conda/lib/python3.11/site-packages (from matplotlib) (1.4.7)\n",
      "Requirement already satisfied: numpy>=1.23 in /srv/conda/lib/python3.11/site-packages (from matplotlib) (1.23.5)\n",
      "Requirement already satisfied: packaging>=20.0 in /srv/conda/lib/python3.11/site-packages (from matplotlib) (24.1)\n",
      "Requirement already satisfied: pillow>=8 in /srv/conda/lib/python3.11/site-packages (from matplotlib) (9.2.0)\n",
      "Requirement already satisfied: pyparsing>=2.3.1 in /srv/conda/lib/python3.11/site-packages (from matplotlib) (3.2.0)\n",
      "Requirement already satisfied: python-dateutil>=2.7 in /srv/conda/lib/python3.11/site-packages (from matplotlib) (2.9.0)\n",
      "Requirement already satisfied: six>=1.5 in /srv/conda/lib/python3.11/site-packages (from python-dateutil>=2.7->matplotlib) (1.16.0)\n"
     ]
    }
   ],
   "source": [
    "# Step 1: Install Required Tools and Dependencies\n",
    "# Make sure you have the necessary tools installed via conda or other package managers.\n",
    "# Example:\n",
    "# conda create -n bio_env biopython muscle fasttree\n",
    "# conda activate bio_env\n",
    "!pip install biopython\n",
    "!pip install pandas\n",
    "!pip install matplotlib"
   ]
  },
  {
   "cell_type": "code",
   "execution_count": 2,
   "id": "9b78bd70-081c-47ae-9d3f-01c5b682dec5",
   "metadata": {},
   "outputs": [
    {
     "name": "stdout",
     "output_type": "stream",
     "text": [
      "Warning: 'bioconda' already in 'channels' list, moving to the top\n",
      "Retrieving notices: ...working... done\n",
      "Collecting package metadata (current_repodata.json): done\n",
      "Solving environment: done\n",
      "\n",
      "\n",
      "==> WARNING: A newer version of conda exists. <==\n",
      "  current version: 23.1.0\n",
      "  latest version: 24.11.0\n",
      "\n",
      "Please update conda by running\n",
      "\n",
      "    $ conda update -n base -c conda-forge conda\n",
      "\n",
      "Or to minimize the number of packages updated during conda update use\n",
      "\n",
      "     conda install conda=24.11.0\n",
      "\n",
      "\n",
      "\n",
      "## Package Plan ##\n",
      "\n",
      "  environment location: /srv/conda\n",
      "\n",
      "  added / updated specs:\n",
      "    - biopython\n",
      "    - fasttree\n",
      "    - muscle\n",
      "\n",
      "\n",
      "The following packages will be downloaded:\n",
      "\n",
      "    package                    |            build\n",
      "    ---------------------------|-----------------\n",
      "    fasttree-2.1.11            |       h031d066_4         261 KB  bioconda\n",
      "    muscle-5.3                 |       h4ac6f70_0         1.1 MB  bioconda\n",
      "    ------------------------------------------------------------\n",
      "                                           Total:         1.4 MB\n",
      "\n",
      "The following NEW packages will be INSTALLED:\n",
      "\n",
      "  fasttree           bioconda/linux-64::fasttree-2.1.11-h031d066_4 \n",
      "\n",
      "The following packages will be UPDATED:\n",
      "\n",
      "  muscle                                3.8.1551-h7d875b9_6 --> 5.3-h4ac6f70_0 \n",
      "\n",
      "\n",
      "\n",
      "Downloading and Extracting Packages\n",
      "fasttree-2.1.11      | 261 KB    |                                       |   0% \n",
      "muscle-5.3           | 1.1 MB    |                                       |   0% \u001b[A\n",
      "fasttree-2.1.11      | 261 KB    | ##################################### | 100% \u001b[A\n",
      "muscle-5.3           | 1.1 MB    | ##################################### | 100% \u001b[A\n",
      "                                                                                \u001b[A\n",
      "                                                                                \u001b[A\n",
      "Preparing transaction: done\n",
      "Verifying transaction: done\n",
      "Executing transaction: done\n"
     ]
    }
   ],
   "source": [
    "!conda config --add channels bioconda\n",
    "!conda install -y biopython muscle fasttree "
   ]
  },
  {
   "cell_type": "code",
   "execution_count": 8,
   "id": "30dd3a5b-4fb0-466e-bc6e-4b602d1cb1b3",
   "metadata": {},
   "outputs": [],
   "source": [
    "import subprocess\n",
    "from Bio import AlignIO, Phylo\n",
    "from matplotlib import pyplot as plt\n",
    "import pandas as pd\n",
    "import numpy as np\n",
    "from typing import List\n",
    "from Bio.Align import MultipleSeqAlignment"
   ]
  },
  {
   "cell_type": "code",
   "execution_count": 5,
   "id": "35f4cdd3-ff9b-4215-8ce1-c5822cb2db1c",
   "metadata": {},
   "outputs": [
    {
     "name": "stdout",
     "output_type": "stream",
     "text": [
      "\n",
      "muscle 5.3.linux64 [-]  65.9Gb RAM, 8 cores\n",
      "Built Nov 11 2024 08:05:12\n",
      "(C) Copyright 2004-2021 Robert C. Edgar.\n",
      "https://drive5.com\n",
      "\n",
      "[super5 multiplesequences.fa]\n",
      "Input: 4 seqs, avg length 2312, max 2315, min 2310\n",
      "\n",
      "00:00 3.5Mb   100.0% Derep 4 uniques, 0 dupes\n",
      "00:00 5.2Mb  CPU has 8 cores, running 8 threads                   \n",
      "00:01 32Mb    100.0% UCLUST 4 seqs EE<0.01, 1 centroids, 2 members\n",
      "00:02 32Mb    100.0% UCLUST 1 seqs EE<0.30, 0 centroids, 0 members\n",
      "00:02 32Mb    100.0% Make cluster MFAs                            \n",
      "1 clusters pass 1                     \n",
      "1 clusters pass 2\n",
      "00:02 32Mb   Align cluster 1 / 1 (1 seq)\n",
      "00:02 32Mb    100.0% Derep 1 uniques, 0 dupes\n",
      "00:02 32Mb    100.0% Consensus sequences     \n",
      "Error running MUSCLE: Command '['muscle', '-in', 'multiplesequences.fa', '-out', 'multiplesequences.aligned.fa']' returned non-zero exit status 1.\n"
     ]
    },
    {
     "name": "stderr",
     "output_type": "stream",
     "text": [
      "\n",
      "\n",
      "Invalid command line\n",
      "Unknown option in\n",
      "\n"
     ]
    }
   ],
   "source": [
    "# Step 2: Perform Multiple Sequence Alignment using MUSCLE\n",
    "# Directly invoke MUSCLE with subprocess to avoid deprecation warnings\n",
    "\n",
    "!muscle -super5 multiplesequences.fa -output multiplesequences.aligned.fa\n",
    "\n",
    "# Make sure the file 'multiplesequences.fa' exists in the current working directory\n",
    "muscle_command = [\"muscle\", \"-in\", \"multiplesequences.fa\", \"-out\", \"multiplesequences.aligned.fa\"]\n",
    "\n",
    "# Run the command\n",
    "try:\n",
    "    subprocess.run(muscle_command, check=True)\n",
    "    print(\"MUSCLE alignment completed successfully.\")\n",
    "except subprocess.CalledProcessError as e:\n",
    "    print(f\"Error running MUSCLE: {e}\")"
   ]
  },
  {
   "cell_type": "code",
   "execution_count": 9,
   "id": "c1a70e44-3d6b-414a-b3fe-96e30a2a0e74",
   "metadata": {},
   "outputs": [],
   "source": [
    "# Step 5: Filter Alignment for Cluster\n",
    "alignment = AlignIO.read(\"multiplesequences.aligned.fa\", \"fasta\")\n",
    "cluster = [\"CY074482\", \"CY073812\", \"CY170966\", \"CY167875\"]\n",
    "\n",
    "def cluster_alignment(alignment: MultipleSeqAlignment, cluster: List[str]) -> MultipleSeqAlignment:\n",
    "    msa = MultipleSeqAlignment([record for record in alignment if record.id in cluster])\n",
    "    return msa\n",
    "\n",
    "cluster_align = cluster_alignment(alignment, cluster)"
   ]
  },
  {
   "cell_type": "code",
   "execution_count": 10,
   "id": "afd65c68-c3bc-4e57-b359-f8117b952694",
   "metadata": {},
   "outputs": [],
   "source": [
    "# Step 6: Build Cluster-Specific DataFrame\n",
    "def build_cluster_dataframe(msa: MultipleSeqAlignment) -> pd.DataFrame:\n",
    "    gc_prop, at_prop = [], []\n",
    "    for i in range(msa.get_alignment_length()):\n",
    "        alignment_column = str(msa[:, i])\n",
    "        gc_tmp = sum(1 for c in alignment_column if c in 'gGcC')\n",
    "        at_tmp = sum(1 for c in alignment_column if c in 'aAtT')\n",
    "        gc_prop.append(gc_tmp)\n",
    "        at_prop.append(at_tmp)\n",
    "    \n",
    "    gc_prop, at_prop = np.array(gc_prop, dtype=float), np.array(at_prop, dtype=float)\n",
    "    total = gc_prop + at_prop\n",
    "    gc_fraction, at_fraction = gc_prop / total, at_prop / total\n",
    "    \n",
    "    df = pd.DataFrame({\"%GC\": gc_fraction, \"%AT\": at_fraction})\n",
    "    return df\n",
    "\n",
    "df_cluster = build_cluster_dataframe(cluster_align)"
   ]
  },
  {
   "cell_type": "code",
   "execution_count": 11,
   "id": "e200f3b0-18a5-492d-940f-1c38abadb79f",
   "metadata": {},
   "outputs": [
    {
     "name": "stdout",
     "output_type": "stream",
     "text": [
      "BED and WIG files have been created.\n"
     ]
    }
   ],
   "source": [
    "# Step 7: Generate BED File\n",
    "def create_bed_file(df: pd.DataFrame, output_file: str):\n",
    "    with open(output_file, \"w\") as bed_file:\n",
    "        for i, row in df.iterrows():\n",
    "            bed_file.write(f\"chr1\\t{i}\\t{i+1}\\tGC_Content\\t{row['%GC']:.2f}\\n\")\n",
    "            bed_file.write(f\"chr1\\t{i}\\t{i+1}\\tAT_Content\\t{row['%AT']:.2f}\\n\")\n",
    "\n",
    "create_bed_file(df_cluster, \"cluster_alignment.bed\")\n",
    "\n",
    "# Step 8: Generate WIG File\n",
    "def create_wig_file(df: pd.DataFrame, output_file: str):\n",
    "    with open(output_file, \"w\") as wig_file:\n",
    "        wig_file.write('track type=wiggle_0 name=\"GC_Content\" description=\"GC percentage content\"\\n')\n",
    "        wig_file.write(\"fixedStep chrom=chr1 start=1 step=1\\n\")\n",
    "        for gc_content in df[\"%GC\"]:\n",
    "            wig_file.write(f\"{gc_content:.2f}\\n\")\n",
    "\n",
    "create_wig_file(df_cluster, \"cluster_alignment.wig\")\n",
    "\n",
    "print(\"BED and WIG files have been created.\")\n"
   ]
  }
 ],
 "metadata": {
  "kernelspec": {
   "display_name": "Python 3 (ipykernel)",
   "language": "python",
   "name": "python3"
  },
  "language_info": {
   "codemirror_mode": {
    "name": "ipython",
    "version": 3
   },
   "file_extension": ".py",
   "mimetype": "text/x-python",
   "name": "python",
   "nbconvert_exporter": "python",
   "pygments_lexer": "ipython3",
   "version": "3.11.0"
  }
 },
 "nbformat": 4,
 "nbformat_minor": 5
}
